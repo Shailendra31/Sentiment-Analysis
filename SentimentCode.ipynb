{
 "cells": [
  {
   "cell_type": "code",
   "execution_count": null,
   "metadata": {},
   "outputs": [],
   "source": [
    "import warnings \n",
    "warnings.filterwarnings('ignore') \n",
    "import pandas as pd \n",
    "import re \n",
    "import seaborn as sns \n",
    "from sklearn.feature_extraction.text import TfidfVectorizer \n",
    "import matplotlib.pyplot as plt \n",
    "from wordcloud import WordCloud"
   ]
  },
  {
   "cell_type": "code",
   "execution_count": null,
   "metadata": {},
   "outputs": [],
   "source": [
    "import nltk \n",
    "nltk.download('stopwords') \n",
    "from nltk.corpus import stopwords"
   ]
  },
  {
   "cell_type": "code",
   "execution_count": null,
   "metadata": {},
   "outputs": [],
   "source": [
    "data = pd.read_csv('flipkart_data.csv') \n",
    "data.head()"
   ]
  },
  {
   "cell_type": "code",
   "execution_count": null,
   "metadata": {},
   "outputs": [],
   "source": [
    "# unique ratings \n",
    "pd.unique(data['rating'])"
   ]
  },
  {
   "cell_type": "code",
   "execution_count": null,
   "metadata": {},
   "outputs": [],
   "source": [
    "sns.countplot(data=data, \n",
    "\t\t\tx='rating', \n",
    "\t\t\torder=data.rating.value_counts().index)"
   ]
  },
  {
   "cell_type": "code",
   "execution_count": null,
   "metadata": {},
   "outputs": [],
   "source": [
    "# rating label(final) \n",
    "pos_neg = [] \n",
    "for i in range(len(data['rating'])): \n",
    "\tif data['rating'][i] >= 5: \n",
    "\t\tpos_neg.append(1) \n",
    "\telse: \n",
    "\t\tpos_neg.append(0) \n",
    "\n",
    "data['label'] = pos_neg \n"
   ]
  },
  {
   "cell_type": "code",
   "execution_count": null,
   "metadata": {},
   "outputs": [],
   "source": [
    "from tqdm import tqdm \n",
    "\n",
    "\n",
    "def preprocess_text(text_data): \n",
    "\tpreprocessed_text = [] \n",
    "\n",
    "\tfor sentence in tqdm(text_data): \n",
    "\t\t# Removing punctuations \n",
    "\t\tsentence = re.sub(r'[^\\w\\s]', '', sentence) \n",
    "\n",
    "\t\t# Converting lowercase and removing stopwords \n",
    "\t\tpreprocessed_text.append(' '.join(token.lower() \n",
    "\t\t\t\t\t\t\t\t\t\tfor token in nltk.word_tokenize(sentence) \n",
    "\t\t\t\t\t\t\t\t\t\tif token.lower() not in stopwords.words('english'))) \n",
    "\n",
    "\treturn preprocessed_text "
   ]
  },
  {
   "cell_type": "code",
   "execution_count": null,
   "metadata": {},
   "outputs": [],
   "source": [
    "preprocessed_review = preprocess_text(data['review'].values) \n",
    "data['review'] = preprocessed_review"
   ]
  },
  {
   "cell_type": "code",
   "execution_count": null,
   "metadata": {},
   "outputs": [],
   "source": [
    "data.head()"
   ]
  },
  {
   "cell_type": "code",
   "execution_count": null,
   "metadata": {},
   "outputs": [],
   "source": [
    "data[\"label\"].value_counts()"
   ]
  },
  {
   "cell_type": "code",
   "execution_count": null,
   "metadata": {},
   "outputs": [],
   "source": [
    "consolidated = ' '.join( \n",
    "\tword for word in data['review'][data['label'] == 1].astype(str)) \n",
    "wordCloud = WordCloud(width=1600, height=800, \n",
    "\t\t\t\t\trandom_state=21, max_font_size=110) \n",
    "plt.figure(figsize=(15, 10)) \n",
    "plt.imshow(wordCloud.generate(consolidated), interpolation='bilinear') \n",
    "plt.axis('off') \n",
    "plt.show() "
   ]
  },
  {
   "cell_type": "code",
   "execution_count": null,
   "metadata": {},
   "outputs": [],
   "source": [
    "cv = TfidfVectorizer(max_features=2500) \n",
    "X = cv.fit_transform(data['review'] ).toarray()"
   ]
  },
  {
   "cell_type": "code",
   "execution_count": null,
   "metadata": {},
   "outputs": [],
   "source": [
    "X"
   ]
  },
  {
   "cell_type": "code",
   "execution_count": null,
   "metadata": {},
   "outputs": [],
   "source": [
    "from sklearn.model_selection import train_test_split \n",
    "X_train, X_test, y_train, y_test = train_test_split(X, data['label'], \n",
    "\t\t\t\t\t\t\t\t\t\t\t\t\ttest_size=0.33, \n",
    "\t\t\t\t\t\t\t\t\t\t\t\t\tstratify=data['label'], \n",
    "\t\t\t\t\t\t\t\t\t\t\t\t\trandom_state = 42)\n"
   ]
  },
  {
   "cell_type": "code",
   "execution_count": null,
   "metadata": {},
   "outputs": [],
   "source": [
    "from sklearn.tree import DecisionTreeClassifier \n",
    "from sklearn.metrics import accuracy_score\n",
    "\n",
    "model = DecisionTreeClassifier(random_state=0) \n",
    "model.fit(X_train,y_train) \n",
    "\n",
    "#testing the model \n",
    "pred = model.predict(X_train) \n",
    "print(accuracy_score(y_train,pred))\n"
   ]
  },
  {
   "cell_type": "code",
   "execution_count": null,
   "metadata": {},
   "outputs": [],
   "source": [
    "from sklearn.ensemble import RandomForestClassifier \n",
    "from sklearn.metrics import accuracy_score\n",
    "\n",
    "model = RandomForestClassifier(random_state=0) \n",
    "model.fit(X_train,y_train) \n",
    "\n",
    "#testing the model \n",
    "pred = model.predict(X_train) \n",
    "print(accuracy_score(y_train,pred))"
   ]
  },
  {
   "cell_type": "code",
   "execution_count": null,
   "metadata": {},
   "outputs": [],
   "source": [
    "from sklearn.metrics import confusion_matrix\n",
    "from sklearn import metrics\n",
    "cm = confusion_matrix(y_train,pred) \n",
    "\n",
    "cm_display = metrics.ConfusionMatrixDisplay(confusion_matrix = cm, \n",
    "\t\t\t\t\t\t\t\t\t\t\tdisplay_labels = [False, True]) \n",
    "\n",
    "cm_display.plot() \n",
    "plt.show()\n"
   ]
  }
 ],
 "metadata": {
  "language_info": {
   "name": "python"
  }
 },
 "nbformat": 4,
 "nbformat_minor": 2
}
